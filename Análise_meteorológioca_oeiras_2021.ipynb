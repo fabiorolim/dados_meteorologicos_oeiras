{
  "nbformat": 4,
  "nbformat_minor": 0,
  "metadata": {
    "colab": {
      "name": "Análise_meteorológioca_oeiras_2021.ipynb",
      "provenance": [],
      "collapsed_sections": [
        "8tSx880vCHyO",
        "1ehkw72PZDcN"
      ],
      "include_colab_link": true
    },
    "kernelspec": {
      "name": "python3",
      "display_name": "Python 3"
    },
    "widgets": {
      "application/vnd.jupyter.widget-state+json": {
        "d24ab6467103467b8c9208f955cb3491": {
          "model_module": "@jupyter-widgets/controls",
          "model_name": "HBoxModel",
          "model_module_version": "1.5.0",
          "state": {
            "_view_name": "HBoxView",
            "_dom_classes": [],
            "_model_name": "HBoxModel",
            "_view_module": "@jupyter-widgets/controls",
            "_model_module_version": "1.5.0",
            "_view_count": null,
            "_view_module_version": "1.5.0",
            "box_style": "",
            "layout": "IPY_MODEL_add9206d64224fd99ee612c6643f0ce9",
            "_model_module": "@jupyter-widgets/controls",
            "children": [
              "IPY_MODEL_b98fe7c5b7624c74bacae07bfc96e4e2",
              "IPY_MODEL_9e5ad02d8af0422a9e37f8b5fb58646b",
              "IPY_MODEL_5a16b81936ed43ef83c8a02475ef3951"
            ]
          }
        },
        "add9206d64224fd99ee612c6643f0ce9": {
          "model_module": "@jupyter-widgets/base",
          "model_name": "LayoutModel",
          "model_module_version": "1.2.0",
          "state": {
            "_view_name": "LayoutView",
            "grid_template_rows": null,
            "right": null,
            "justify_content": null,
            "_view_module": "@jupyter-widgets/base",
            "overflow": null,
            "_model_module_version": "1.2.0",
            "_view_count": null,
            "flex_flow": "row wrap",
            "width": "100%",
            "min_width": null,
            "border": null,
            "align_items": null,
            "bottom": null,
            "_model_module": "@jupyter-widgets/base",
            "top": null,
            "grid_column": null,
            "overflow_y": null,
            "overflow_x": null,
            "grid_auto_flow": null,
            "grid_area": null,
            "grid_template_columns": null,
            "flex": null,
            "_model_name": "LayoutModel",
            "justify_items": null,
            "grid_row": null,
            "max_height": null,
            "align_content": null,
            "visibility": null,
            "align_self": null,
            "height": null,
            "min_height": null,
            "padding": null,
            "grid_auto_rows": null,
            "grid_gap": null,
            "max_width": null,
            "order": null,
            "_view_module_version": "1.2.0",
            "grid_template_areas": null,
            "object_position": null,
            "object_fit": null,
            "grid_auto_columns": null,
            "margin": null,
            "display": "inline-flex",
            "left": null
          }
        },
        "b98fe7c5b7624c74bacae07bfc96e4e2": {
          "model_module": "@jupyter-widgets/controls",
          "model_name": "HTMLModel",
          "model_module_version": "1.5.0",
          "state": {
            "_view_name": "HTMLView",
            "style": "IPY_MODEL_5c08c60ac7fd4c0392b0a89a7c5064ba",
            "_dom_classes": [],
            "description": "",
            "_model_name": "HTMLModel",
            "placeholder": "​",
            "_view_module": "@jupyter-widgets/controls",
            "_model_module_version": "1.5.0",
            "value": "Done! Use &#x27;show&#x27; commands to display/save.   ",
            "_view_count": null,
            "_view_module_version": "1.5.0",
            "description_tooltip": null,
            "_model_module": "@jupyter-widgets/controls",
            "layout": "IPY_MODEL_07f9118af6a045c7a8c7142b19b1788b"
          }
        },
        "9e5ad02d8af0422a9e37f8b5fb58646b": {
          "model_module": "@jupyter-widgets/controls",
          "model_name": "FloatProgressModel",
          "model_module_version": "1.5.0",
          "state": {
            "_view_name": "ProgressView",
            "style": "IPY_MODEL_4560ff123cdc481695202277f21e3f09",
            "_dom_classes": [],
            "description": "",
            "_model_name": "FloatProgressModel",
            "bar_style": "success",
            "max": 1,
            "_view_module": "@jupyter-widgets/controls",
            "_model_module_version": "1.5.0",
            "value": 1,
            "_view_count": null,
            "_view_module_version": "1.5.0",
            "orientation": "horizontal",
            "min": 0,
            "description_tooltip": null,
            "_model_module": "@jupyter-widgets/controls",
            "layout": "IPY_MODEL_63080948e28348a8a0818d6689f35fe7"
          }
        },
        "5a16b81936ed43ef83c8a02475ef3951": {
          "model_module": "@jupyter-widgets/controls",
          "model_name": "HTMLModel",
          "model_module_version": "1.5.0",
          "state": {
            "_view_name": "HTMLView",
            "style": "IPY_MODEL_ce65b8410eb945c5b083b81ddf4d28df",
            "_dom_classes": [],
            "description": "",
            "_model_name": "HTMLModel",
            "placeholder": "​",
            "_view_module": "@jupyter-widgets/controls",
            "_model_module_version": "1.5.0",
            "value": " [100%]   00:01 -&gt; (00:00 left)",
            "_view_count": null,
            "_view_module_version": "1.5.0",
            "description_tooltip": null,
            "_model_module": "@jupyter-widgets/controls",
            "layout": "IPY_MODEL_7d8f2151cec64e55b6b7fe5e5a0a0215"
          }
        },
        "5c08c60ac7fd4c0392b0a89a7c5064ba": {
          "model_module": "@jupyter-widgets/controls",
          "model_name": "DescriptionStyleModel",
          "model_module_version": "1.5.0",
          "state": {
            "_view_name": "StyleView",
            "_model_name": "DescriptionStyleModel",
            "description_width": "",
            "_view_module": "@jupyter-widgets/base",
            "_model_module_version": "1.5.0",
            "_view_count": null,
            "_view_module_version": "1.2.0",
            "_model_module": "@jupyter-widgets/controls"
          }
        },
        "07f9118af6a045c7a8c7142b19b1788b": {
          "model_module": "@jupyter-widgets/base",
          "model_name": "LayoutModel",
          "model_module_version": "1.2.0",
          "state": {
            "_view_name": "LayoutView",
            "grid_template_rows": null,
            "right": null,
            "justify_content": null,
            "_view_module": "@jupyter-widgets/base",
            "overflow": null,
            "_model_module_version": "1.2.0",
            "_view_count": null,
            "flex_flow": null,
            "width": null,
            "min_width": null,
            "border": null,
            "align_items": null,
            "bottom": null,
            "_model_module": "@jupyter-widgets/base",
            "top": null,
            "grid_column": null,
            "overflow_y": null,
            "overflow_x": null,
            "grid_auto_flow": null,
            "grid_area": null,
            "grid_template_columns": null,
            "flex": null,
            "_model_name": "LayoutModel",
            "justify_items": null,
            "grid_row": null,
            "max_height": null,
            "align_content": null,
            "visibility": null,
            "align_self": null,
            "height": null,
            "min_height": null,
            "padding": null,
            "grid_auto_rows": null,
            "grid_gap": null,
            "max_width": null,
            "order": null,
            "_view_module_version": "1.2.0",
            "grid_template_areas": null,
            "object_position": null,
            "object_fit": null,
            "grid_auto_columns": null,
            "margin": null,
            "display": null,
            "left": null
          }
        },
        "4560ff123cdc481695202277f21e3f09": {
          "model_module": "@jupyter-widgets/controls",
          "model_name": "ProgressStyleModel",
          "model_module_version": "1.5.0",
          "state": {
            "_view_name": "StyleView",
            "_model_name": "ProgressStyleModel",
            "description_width": "",
            "_view_module": "@jupyter-widgets/base",
            "_model_module_version": "1.5.0",
            "_view_count": null,
            "_view_module_version": "1.2.0",
            "bar_color": null,
            "_model_module": "@jupyter-widgets/controls"
          }
        },
        "63080948e28348a8a0818d6689f35fe7": {
          "model_module": "@jupyter-widgets/base",
          "model_name": "LayoutModel",
          "model_module_version": "1.2.0",
          "state": {
            "_view_name": "LayoutView",
            "grid_template_rows": null,
            "right": null,
            "justify_content": null,
            "_view_module": "@jupyter-widgets/base",
            "overflow": null,
            "_model_module_version": "1.2.0",
            "_view_count": null,
            "flex_flow": null,
            "width": null,
            "min_width": null,
            "border": null,
            "align_items": null,
            "bottom": null,
            "_model_module": "@jupyter-widgets/base",
            "top": null,
            "grid_column": null,
            "overflow_y": null,
            "overflow_x": null,
            "grid_auto_flow": null,
            "grid_area": null,
            "grid_template_columns": null,
            "flex": "2",
            "_model_name": "LayoutModel",
            "justify_items": null,
            "grid_row": null,
            "max_height": null,
            "align_content": null,
            "visibility": null,
            "align_self": null,
            "height": null,
            "min_height": null,
            "padding": null,
            "grid_auto_rows": null,
            "grid_gap": null,
            "max_width": null,
            "order": null,
            "_view_module_version": "1.2.0",
            "grid_template_areas": null,
            "object_position": null,
            "object_fit": null,
            "grid_auto_columns": null,
            "margin": null,
            "display": null,
            "left": null
          }
        },
        "ce65b8410eb945c5b083b81ddf4d28df": {
          "model_module": "@jupyter-widgets/controls",
          "model_name": "DescriptionStyleModel",
          "model_module_version": "1.5.0",
          "state": {
            "_view_name": "StyleView",
            "_model_name": "DescriptionStyleModel",
            "description_width": "",
            "_view_module": "@jupyter-widgets/base",
            "_model_module_version": "1.5.0",
            "_view_count": null,
            "_view_module_version": "1.2.0",
            "_model_module": "@jupyter-widgets/controls"
          }
        },
        "7d8f2151cec64e55b6b7fe5e5a0a0215": {
          "model_module": "@jupyter-widgets/base",
          "model_name": "LayoutModel",
          "model_module_version": "1.2.0",
          "state": {
            "_view_name": "LayoutView",
            "grid_template_rows": null,
            "right": null,
            "justify_content": null,
            "_view_module": "@jupyter-widgets/base",
            "overflow": null,
            "_model_module_version": "1.2.0",
            "_view_count": null,
            "flex_flow": null,
            "width": null,
            "min_width": null,
            "border": null,
            "align_items": null,
            "bottom": null,
            "_model_module": "@jupyter-widgets/base",
            "top": null,
            "grid_column": null,
            "overflow_y": null,
            "overflow_x": null,
            "grid_auto_flow": null,
            "grid_area": null,
            "grid_template_columns": null,
            "flex": null,
            "_model_name": "LayoutModel",
            "justify_items": null,
            "grid_row": null,
            "max_height": null,
            "align_content": null,
            "visibility": null,
            "align_self": null,
            "height": null,
            "min_height": null,
            "padding": null,
            "grid_auto_rows": null,
            "grid_gap": null,
            "max_width": null,
            "order": null,
            "_view_module_version": "1.2.0",
            "grid_template_areas": null,
            "object_position": null,
            "object_fit": null,
            "grid_auto_columns": null,
            "margin": null,
            "display": null,
            "left": null
          }
        }
      }
    }
  },
  "cells": [
    {
      "cell_type": "markdown",
      "metadata": {
        "id": "view-in-github",
        "colab_type": "text"
      },
      "source": [
        "<a href=\"https://colab.research.google.com/github/fabiorolim/dados_meteorologicos_oeiras/blob/master/An%C3%A1lise_meteorol%C3%B3gioca_oeiras_2021.ipynb\" target=\"_parent\"><img src=\"https://colab.research.google.com/assets/colab-badge.svg\" alt=\"Open In Colab\"/></a>"
      ]
    },
    {
      "cell_type": "markdown",
      "metadata": {
        "id": "3EfuXKyh5Zan"
      },
      "source": [
        "<img src=\"https://github.com/fabiorolim/dados_meteorologicos_oeiras/blob/master/ICON%20APP%20tempo%20IFPI%20Oeiras.png?raw=true\" height=\"80px\" width=\"80px\">\n",
        "\n",
        "# Análise dos dados meteorológicos de 2021 em Oeiras, Piauí.\n",
        "\n",
        "\n",
        "\n",
        "\n",
        "\n"
      ]
    },
    {
      "cell_type": "markdown",
      "metadata": {
        "id": "8tSx880vCHyO"
      },
      "source": [
        "<img src=\"https://github.com/fabiorolim/dados_meteorologicos_oeiras/blob/master/daves.jpg?raw=true\" height=\"220px\" width=\"420px\">\n",
        "\n",
        "Este artigo apresenta uma análise dos dados meteorológicos do ano de 2020, da cidade de Oeiras - PI, coletados apartir da estação meteorologica [Daves Vantage Pro 2](https://www.davisinstruments.com/solution/vantage-pro2/), instalada no Instituto Federal do Piauí, Campus Oeiras.\n",
        "\n",
        "Um raspiberry pi conectado ao console da estação envia os dados da primeira leitura do dia para o sistema online, às 00h:05m, as demais leituras são realizadas a cada 30 minutos, exceto a última do dia às 23h:59m.\n",
        "\n",
        "Todos os dados utilizados neste notebook podem ser acessados através do [sistema Cruviana](https://cruviana.ifpi.edu.br/oeiras/).\n",
        "\n",
        "## A cidade\n",
        "<img src=\"https://github.com/fabiorolim/dados_meteorologicos_oeiras/blob/master/IMG_6955.jpg?raw=true\" height=\"220px\" width=\"420px\">\n",
        "\n",
        "Oeiras é um município brasileiro do estado do Piauí, localizado na latitude 07º01'30\" sul e longitude 42º07'51\" oeste. A cidade possui 2.720km² de extensão territórial e está situada bem ao centro do estado.\n",
        "\n",
        "O clima tropical semiárido é predominante na região do municipio piauiense, onde nos meses mais quentes, as temperaturas chegam a ultrapassar os 40⁰C.\n",
        "\n",
        "O Rio Canindé, que corta a primeira capital do estado, é temporario, seu volume de águas está mais elevado na época das chuvas, que se concentram em torno de 4 meses do ano.\n",
        "\n"
      ]
    },
    {
      "cell_type": "markdown",
      "metadata": {
        "id": "GpJMagLATPIJ"
      },
      "source": [
        "## Obtenção dos dados\n",
        "\n",
        "Os dados analisados foram obtidos por meio de download no  [sistema Cruviana](https://cruviana.ifpi.edu.br/oeiras/). Para baixar o arquivo em formato cvs é necessário informar o intervalo de datas desejado. A data inicial informada no sistema foi 01/01/2020 e a data final foi 31/12/2020. Após download, o arquivo baixado foi anexado ao repositório no [github](https://https://raw.githubusercontent.com/fabiorolim/dados_meteorologicos_oeiras/master/dados_2020.csv) para importação neste notebook.\n",
        "\n",
        "\n",
        "\n"
      ]
    },
    {
      "cell_type": "markdown",
      "metadata": {
        "id": "qmyew4n5YwNT"
      },
      "source": [
        "### Importando os dados\n",
        "\n"
      ]
    },
    {
      "cell_type": "code",
      "metadata": {
        "id": "E8tv2FUTYYGB"
      },
      "source": [
        "# Importandos bibiotecas necessárias\n",
        "import pandas as pd\n",
        "import matplotlib.pyplot as plt\n",
        "\n",
        "%matplotlib inline\n",
        "\n",
        "# Cria dataframe com o csv através do pandas\n",
        "url = 'https://raw.githubusercontent.com/fabiorolim/dados_meteorologicos_oeiras/master/dados_2021_setembro.csv'\n",
        " \n",
        "df = pd.read_csv(url, parse_dates=True, index_col='Datetime')"
      ],
      "execution_count": 1,
      "outputs": []
    },
    {
      "cell_type": "code",
      "metadata": {
        "colab": {
          "base_uri": "https://localhost:8080/"
        },
        "id": "QWU3gpEmsfvw",
        "outputId": "4aaeffa5-30ee-4ddb-9d6d-de6e67959ca2"
      },
      "source": [
        "!pip install sweetviz\n",
        "import sweetviz as sv\n"
      ],
      "execution_count": 2,
      "outputs": [
        {
          "output_type": "stream",
          "name": "stdout",
          "text": [
            "Collecting sweetviz\n",
            "  Downloading sweetviz-2.1.3-py3-none-any.whl (15.1 MB)\n",
            "\u001b[K     |████████████████████████████████| 15.1 MB 190 kB/s \n",
            "\u001b[?25hRequirement already satisfied: jinja2>=2.11.1 in /usr/local/lib/python3.7/dist-packages (from sweetviz) (2.11.3)\n",
            "Requirement already satisfied: numpy>=1.16.0 in /usr/local/lib/python3.7/dist-packages (from sweetviz) (1.19.5)\n",
            "Requirement already satisfied: importlib-resources>=1.2.0 in /usr/local/lib/python3.7/dist-packages (from sweetviz) (5.2.2)\n",
            "Requirement already satisfied: tqdm>=4.43.0 in /usr/local/lib/python3.7/dist-packages (from sweetviz) (4.62.2)\n",
            "Requirement already satisfied: matplotlib>=3.1.3 in /usr/local/lib/python3.7/dist-packages (from sweetviz) (3.2.2)\n",
            "Requirement already satisfied: pandas!=1.0.0,!=1.0.1,!=1.0.2,>=0.25.3 in /usr/local/lib/python3.7/dist-packages (from sweetviz) (1.1.5)\n",
            "Requirement already satisfied: scipy>=1.3.2 in /usr/local/lib/python3.7/dist-packages (from sweetviz) (1.4.1)\n",
            "Requirement already satisfied: zipp>=3.1.0 in /usr/local/lib/python3.7/dist-packages (from importlib-resources>=1.2.0->sweetviz) (3.5.0)\n",
            "Requirement already satisfied: MarkupSafe>=0.23 in /usr/local/lib/python3.7/dist-packages (from jinja2>=2.11.1->sweetviz) (2.0.1)\n",
            "Requirement already satisfied: pyparsing!=2.0.4,!=2.1.2,!=2.1.6,>=2.0.1 in /usr/local/lib/python3.7/dist-packages (from matplotlib>=3.1.3->sweetviz) (2.4.7)\n",
            "Requirement already satisfied: python-dateutil>=2.1 in /usr/local/lib/python3.7/dist-packages (from matplotlib>=3.1.3->sweetviz) (2.8.2)\n",
            "Requirement already satisfied: cycler>=0.10 in /usr/local/lib/python3.7/dist-packages (from matplotlib>=3.1.3->sweetviz) (0.10.0)\n",
            "Requirement already satisfied: kiwisolver>=1.0.1 in /usr/local/lib/python3.7/dist-packages (from matplotlib>=3.1.3->sweetviz) (1.3.2)\n",
            "Requirement already satisfied: six in /usr/local/lib/python3.7/dist-packages (from cycler>=0.10->matplotlib>=3.1.3->sweetviz) (1.15.0)\n",
            "Requirement already satisfied: pytz>=2017.2 in /usr/local/lib/python3.7/dist-packages (from pandas!=1.0.0,!=1.0.1,!=1.0.2,>=0.25.3->sweetviz) (2018.9)\n",
            "Installing collected packages: sweetviz\n",
            "Successfully installed sweetviz-2.1.3\n"
          ]
        }
      ]
    },
    {
      "cell_type": "code",
      "metadata": {
        "colab": {
          "base_uri": "https://localhost:8080/",
          "height": 103,
          "referenced_widgets": [
            "d24ab6467103467b8c9208f955cb3491",
            "add9206d64224fd99ee612c6643f0ce9",
            "b98fe7c5b7624c74bacae07bfc96e4e2",
            "9e5ad02d8af0422a9e37f8b5fb58646b",
            "5a16b81936ed43ef83c8a02475ef3951",
            "5c08c60ac7fd4c0392b0a89a7c5064ba",
            "07f9118af6a045c7a8c7142b19b1788b",
            "4560ff123cdc481695202277f21e3f09",
            "63080948e28348a8a0818d6689f35fe7",
            "ce65b8410eb945c5b083b81ddf4d28df",
            "7d8f2151cec64e55b6b7fe5e5a0a0215"
          ]
        },
        "id": "PoKinK40tjWF",
        "outputId": "7a75d9af-3737-47f2-a712-25907e7a2149"
      },
      "source": [
        "report = sv.analyze(df)\n",
        "display(report.show_html())\n"
      ],
      "execution_count": null,
      "outputs": [
        {
          "output_type": "display_data",
          "data": {
            "application/vnd.jupyter.widget-view+json": {
              "model_id": "d24ab6467103467b8c9208f955cb3491",
              "version_minor": 0,
              "version_major": 2
            },
            "text/plain": [
              "                                             |          | [  0%]   00:00 -> (? left)"
            ]
          },
          "metadata": {
            "tags": []
          }
        },
        {
          "output_type": "stream",
          "text": [
            "Report SWEETVIZ_REPORT.html was generated! NOTEBOOK/COLAB USERS: the web browser MAY not pop up, regardless, the report IS saved in your notebook/colab files.\n"
          ],
          "name": "stdout"
        },
        {
          "output_type": "display_data",
          "data": {
            "text/plain": [
              "None"
            ]
          },
          "metadata": {
            "tags": []
          }
        }
      ]
    },
    {
      "cell_type": "markdown",
      "metadata": {
        "id": "1ehkw72PZDcN"
      },
      "source": [
        "## Informações acerca do banco de dados\n",
        "\n",
        "A base de dados é composta por 16.256 linhas ou registros, cada um corresponde a uma leitura feita pela estação, e 23 colunas ou variáveis."
      ]
    },
    {
      "cell_type": "code",
      "metadata": {
        "id": "XVmMBim-ZWWo",
        "colab": {
          "base_uri": "https://localhost:8080/"
        },
        "outputId": "65330d4e-ab95-407c-c9a8-6e44b61ef16e"
      },
      "source": [
        "# Obtem informações sobre os dados\n",
        "print('Informação sobre a base dados')\n",
        "print(f'Número de linhas: {df.shape[0]}')\n",
        "print(f'Número de colunas: {df.shape[1]}')"
      ],
      "execution_count": 3,
      "outputs": [
        {
          "output_type": "stream",
          "name": "stdout",
          "text": [
            "Informação sobre a base dados\n",
            "Número de linhas: 12092\n",
            "Número de colunas: 23\n"
          ]
        }
      ]
    },
    {
      "cell_type": "code",
      "metadata": {
        "id": "jYutFDwHZBu8",
        "colab": {
          "base_uri": "https://localhost:8080/",
          "height": 340
        },
        "outputId": "80d148ce-295b-45e8-849f-424cf86d0475"
      },
      "source": [
        "# Exibe 5 entradas do banco de dados\n",
        "df.head()"
      ],
      "execution_count": 4,
      "outputs": [
        {
          "output_type": "execute_result",
          "data": {
            "text/html": [
              "<div>\n",
              "<style scoped>\n",
              "    .dataframe tbody tr th:only-of-type {\n",
              "        vertical-align: middle;\n",
              "    }\n",
              "\n",
              "    .dataframe tbody tr th {\n",
              "        vertical-align: top;\n",
              "    }\n",
              "\n",
              "    .dataframe thead th {\n",
              "        text-align: right;\n",
              "    }\n",
              "</style>\n",
              "<table border=\"1\" class=\"dataframe\">\n",
              "  <thead>\n",
              "    <tr style=\"text-align: right;\">\n",
              "      <th></th>\n",
              "      <th>id</th>\n",
              "      <th>Data</th>\n",
              "      <th>Data_add</th>\n",
              "      <th>BarTrend</th>\n",
              "      <th>Barometer</th>\n",
              "      <th>TempOut</th>\n",
              "      <th>WindSpeed</th>\n",
              "      <th>WindSpeed10Min</th>\n",
              "      <th>WindDir</th>\n",
              "      <th>HumOut</th>\n",
              "      <th>RainRate</th>\n",
              "      <th>SolarRad</th>\n",
              "      <th>RainDay</th>\n",
              "      <th>RainMonth</th>\n",
              "      <th>RainYear</th>\n",
              "      <th>ETDay</th>\n",
              "      <th>ETMonth</th>\n",
              "      <th>ETYear</th>\n",
              "      <th>RainStorm</th>\n",
              "      <th>HeatIndex</th>\n",
              "      <th>WindChill</th>\n",
              "      <th>THSWIndex</th>\n",
              "      <th>Station</th>\n",
              "    </tr>\n",
              "    <tr>\n",
              "      <th>Datetime</th>\n",
              "      <th></th>\n",
              "      <th></th>\n",
              "      <th></th>\n",
              "      <th></th>\n",
              "      <th></th>\n",
              "      <th></th>\n",
              "      <th></th>\n",
              "      <th></th>\n",
              "      <th></th>\n",
              "      <th></th>\n",
              "      <th></th>\n",
              "      <th></th>\n",
              "      <th></th>\n",
              "      <th></th>\n",
              "      <th></th>\n",
              "      <th></th>\n",
              "      <th></th>\n",
              "      <th></th>\n",
              "      <th></th>\n",
              "      <th></th>\n",
              "      <th></th>\n",
              "      <th></th>\n",
              "      <th></th>\n",
              "    </tr>\n",
              "  </thead>\n",
              "  <tbody>\n",
              "    <tr>\n",
              "      <th>2021-01-12 08:35:03.563645</th>\n",
              "      <td>30171</td>\n",
              "      <td>2021-01-12</td>\n",
              "      <td>2021-01-12</td>\n",
              "      <td>20.0</td>\n",
              "      <td>29.833</td>\n",
              "      <td>26.2</td>\n",
              "      <td>0</td>\n",
              "      <td>0</td>\n",
              "      <td>353</td>\n",
              "      <td>87.0</td>\n",
              "      <td>NaN</td>\n",
              "      <td>153.0</td>\n",
              "      <td>0.0</td>\n",
              "      <td>30.0</td>\n",
              "      <td>30.0</td>\n",
              "      <td>0.1</td>\n",
              "      <td>40.9</td>\n",
              "      <td>40.9</td>\n",
              "      <td>NaN</td>\n",
              "      <td>29.4</td>\n",
              "      <td>26.1</td>\n",
              "      <td>30.6</td>\n",
              "      <td>1</td>\n",
              "    </tr>\n",
              "    <tr>\n",
              "      <th>2021-01-14 10:05:03.588056</th>\n",
              "      <td>30266</td>\n",
              "      <td>2021-01-14</td>\n",
              "      <td>2021-01-14</td>\n",
              "      <td>0.0</td>\n",
              "      <td>29.820</td>\n",
              "      <td>26.4</td>\n",
              "      <td>0</td>\n",
              "      <td>0</td>\n",
              "      <td>68</td>\n",
              "      <td>82.0</td>\n",
              "      <td>NaN</td>\n",
              "      <td>341.0</td>\n",
              "      <td>0.4</td>\n",
              "      <td>78.2</td>\n",
              "      <td>78.2</td>\n",
              "      <td>0.4</td>\n",
              "      <td>43.4</td>\n",
              "      <td>43.4</td>\n",
              "      <td>NaN</td>\n",
              "      <td>29.4</td>\n",
              "      <td>26.7</td>\n",
              "      <td>33.9</td>\n",
              "      <td>1</td>\n",
              "    </tr>\n",
              "    <tr>\n",
              "      <th>2021-01-19 11:35:04.085157</th>\n",
              "      <td>30511</td>\n",
              "      <td>2021-01-19</td>\n",
              "      <td>2021-01-19</td>\n",
              "      <td>236.0</td>\n",
              "      <td>29.780</td>\n",
              "      <td>31.4</td>\n",
              "      <td>8</td>\n",
              "      <td>1</td>\n",
              "      <td>249</td>\n",
              "      <td>61.0</td>\n",
              "      <td>NaN</td>\n",
              "      <td>573.0</td>\n",
              "      <td>1.2</td>\n",
              "      <td>91.4</td>\n",
              "      <td>91.4</td>\n",
              "      <td>1.6</td>\n",
              "      <td>62.7</td>\n",
              "      <td>62.7</td>\n",
              "      <td>NaN</td>\n",
              "      <td>36.1</td>\n",
              "      <td>31.7</td>\n",
              "      <td>43.3</td>\n",
              "      <td>1</td>\n",
              "    </tr>\n",
              "    <tr>\n",
              "      <th>2021-01-20 16:35:03.592622</th>\n",
              "      <td>30569</td>\n",
              "      <td>2021-01-20</td>\n",
              "      <td>2021-01-20</td>\n",
              "      <td>0.0</td>\n",
              "      <td>29.734</td>\n",
              "      <td>24.9</td>\n",
              "      <td>0</td>\n",
              "      <td>0</td>\n",
              "      <td>231</td>\n",
              "      <td>85.0</td>\n",
              "      <td>NaN</td>\n",
              "      <td>30.0</td>\n",
              "      <td>1.6</td>\n",
              "      <td>93.0</td>\n",
              "      <td>93.0</td>\n",
              "      <td>2.5</td>\n",
              "      <td>66.8</td>\n",
              "      <td>66.8</td>\n",
              "      <td>NaN</td>\n",
              "      <td>27.2</td>\n",
              "      <td>25.0</td>\n",
              "      <td>26.7</td>\n",
              "      <td>1</td>\n",
              "    </tr>\n",
              "    <tr>\n",
              "      <th>2021-02-03 04:05:03.557765</th>\n",
              "      <td>31213</td>\n",
              "      <td>2021-02-03</td>\n",
              "      <td>2021-02-03</td>\n",
              "      <td>0.0</td>\n",
              "      <td>29.768</td>\n",
              "      <td>20.4</td>\n",
              "      <td>0</td>\n",
              "      <td>0</td>\n",
              "      <td>318</td>\n",
              "      <td>89.0</td>\n",
              "      <td>NaN</td>\n",
              "      <td>0.0</td>\n",
              "      <td>0.0</td>\n",
              "      <td>0.2</td>\n",
              "      <td>112.8</td>\n",
              "      <td>0.1</td>\n",
              "      <td>8.4</td>\n",
              "      <td>114.3</td>\n",
              "      <td>NaN</td>\n",
              "      <td>21.7</td>\n",
              "      <td>20.6</td>\n",
              "      <td>21.1</td>\n",
              "      <td>1</td>\n",
              "    </tr>\n",
              "  </tbody>\n",
              "</table>\n",
              "</div>"
            ],
            "text/plain": [
              "                               id        Data  ... THSWIndex  Station\n",
              "Datetime                                       ...                   \n",
              "2021-01-12 08:35:03.563645  30171  2021-01-12  ...      30.6        1\n",
              "2021-01-14 10:05:03.588056  30266  2021-01-14  ...      33.9        1\n",
              "2021-01-19 11:35:04.085157  30511  2021-01-19  ...      43.3        1\n",
              "2021-01-20 16:35:03.592622  30569  2021-01-20  ...      26.7        1\n",
              "2021-02-03 04:05:03.557765  31213  2021-02-03  ...      21.1        1\n",
              "\n",
              "[5 rows x 23 columns]"
            ]
          },
          "metadata": {},
          "execution_count": 4
        }
      ]
    },
    {
      "cell_type": "markdown",
      "metadata": {
        "id": "n1WX-MUNaIbY"
      },
      "source": [
        "### Dicionário de dados\n",
        "\n",
        "\n",
        "*   **Datetime**: Tempo preciso em que a leitura ocorreu em formato americano;\n",
        "*   **id:** Identificador único da leitura;\n",
        "*   **Data_add:** Data em que a leitura ocorreu em formato americano;\n",
        "*   **BarTrend:** Tendência da pressão para 3h;\n",
        "*   **Barometer:** Pressão barométrica;\n",
        "*   **TempOut:** Temperatura do ar em grau em (⁰C);\n",
        "*   **WindSpeed:** Velocidade do vento em (km/h);\n",
        "*   **WindSpeed10Min:** Média de velocidade do vento nos últimos 10 minutos em (km/h);\n",
        "*   **WindDir:** Direção do vento em (⁰);\n",
        "*   **HumOut:** Umidade relativa do ar em (%);\n",
        "*   **RainRate:** Volume de chuva por hora (mm);\n",
        "*   **SolarRad:** Radiação solar em (W/m²);\n",
        "*   **RainDay:** Volume de chuva acumulado no dia em (mm);\n",
        "*   **RainMonth:** Volume de chuva acumulado no Mês em (mm);\n",
        "*   **RainYear:** Volume de chuva acumulado no ano em (mm);\n",
        "*   **ETDay:** Volume de evapotranspiração acumulado no dia em (mm);\n",
        "*   **ETMonth:** Volume de evapotranspiração acumulado no mês em (mm);\n",
        "*   **ETYear:** Volume de evapotranspiração acumulado no ano em (mm);\n",
        "*   **RainStorm:** Volume de chuva considerada tempestade (mm);\n",
        "*   **HeatIndex:** Índice de calor em (⁰C);\n",
        "*   **WindChill:** Sensação térmica considerando vento (⁰C);\n",
        "*   **THSWIndex:** Sensação térmica considerando umidade, radiação solar, vento e temperatura;\n",
        "*   **Station:** Identificador da estação meteorológica."
      ]
    },
    {
      "cell_type": "markdown",
      "metadata": {
        "id": "zB9isVzHax-q"
      },
      "source": [
        "## Removendo dados\n",
        "\n",
        "Antes da etapada de exploração dos dados, buscou-se por variáveis com valores nulos ou que não serão utilizadas para a análise.\n",
        "\n"
      ]
    },
    {
      "cell_type": "code",
      "metadata": {
        "id": "P_yeMBaOaPVU",
        "colab": {
          "base_uri": "https://localhost:8080/"
        },
        "outputId": "b6a1a325-5919-4ad6-e883-ef367b2b4e50"
      },
      "source": [
        "# Exibe todas as variáveis e o percentual de valores nulos \n",
        "print(f'{(df.isnull().sum()/df.shape[0])*100}')"
      ],
      "execution_count": 5,
      "outputs": [
        {
          "output_type": "stream",
          "name": "stdout",
          "text": [
            "id                  0.0\n",
            "Data                0.0\n",
            "Data_add            0.0\n",
            "BarTrend            0.0\n",
            "Barometer           0.0\n",
            "TempOut             0.0\n",
            "WindSpeed           0.0\n",
            "WindSpeed10Min      0.0\n",
            "WindDir             0.0\n",
            "HumOut              0.0\n",
            "RainRate          100.0\n",
            "SolarRad            0.0\n",
            "RainDay             0.0\n",
            "RainMonth           0.0\n",
            "RainYear            0.0\n",
            "ETDay               0.0\n",
            "ETMonth             0.0\n",
            "ETYear              0.0\n",
            "RainStorm         100.0\n",
            "HeatIndex           0.0\n",
            "WindChill           0.0\n",
            "THSWIndex           0.0\n",
            "Station             0.0\n",
            "dtype: float64\n"
          ]
        }
      ]
    },
    {
      "cell_type": "code",
      "metadata": {
        "colab": {
          "base_uri": "https://localhost:8080/",
          "height": 340
        },
        "id": "DDfJq-YfjeMu",
        "outputId": "ba156e2a-170f-4b88-e115-6f9ef8b27bb8"
      },
      "source": [
        "# Cria uma cópia do dataframe original\n",
        "df_clean = df.copy()\n",
        "# Remove todas as variáveis com dados nulos e que não serão utilizadas na análise. \n",
        "df_clean = df_clean.drop(columns=['id', 'RainRate', 'RainStorm', 'BarTrend', 'Barometer', 'WindSpeed10Min', 'Station', 'HeatIndex', 'WindChill', 'THSWIndex'])\n",
        "display(df_clean.head())"
      ],
      "execution_count": 6,
      "outputs": [
        {
          "output_type": "display_data",
          "data": {
            "text/html": [
              "<div>\n",
              "<style scoped>\n",
              "    .dataframe tbody tr th:only-of-type {\n",
              "        vertical-align: middle;\n",
              "    }\n",
              "\n",
              "    .dataframe tbody tr th {\n",
              "        vertical-align: top;\n",
              "    }\n",
              "\n",
              "    .dataframe thead th {\n",
              "        text-align: right;\n",
              "    }\n",
              "</style>\n",
              "<table border=\"1\" class=\"dataframe\">\n",
              "  <thead>\n",
              "    <tr style=\"text-align: right;\">\n",
              "      <th></th>\n",
              "      <th>Data</th>\n",
              "      <th>Data_add</th>\n",
              "      <th>TempOut</th>\n",
              "      <th>WindSpeed</th>\n",
              "      <th>WindDir</th>\n",
              "      <th>HumOut</th>\n",
              "      <th>SolarRad</th>\n",
              "      <th>RainDay</th>\n",
              "      <th>RainMonth</th>\n",
              "      <th>RainYear</th>\n",
              "      <th>ETDay</th>\n",
              "      <th>ETMonth</th>\n",
              "      <th>ETYear</th>\n",
              "    </tr>\n",
              "    <tr>\n",
              "      <th>Datetime</th>\n",
              "      <th></th>\n",
              "      <th></th>\n",
              "      <th></th>\n",
              "      <th></th>\n",
              "      <th></th>\n",
              "      <th></th>\n",
              "      <th></th>\n",
              "      <th></th>\n",
              "      <th></th>\n",
              "      <th></th>\n",
              "      <th></th>\n",
              "      <th></th>\n",
              "      <th></th>\n",
              "    </tr>\n",
              "  </thead>\n",
              "  <tbody>\n",
              "    <tr>\n",
              "      <th>2021-01-12 08:35:03.563645</th>\n",
              "      <td>2021-01-12</td>\n",
              "      <td>2021-01-12</td>\n",
              "      <td>26.2</td>\n",
              "      <td>0</td>\n",
              "      <td>353</td>\n",
              "      <td>87.0</td>\n",
              "      <td>153.0</td>\n",
              "      <td>0.0</td>\n",
              "      <td>30.0</td>\n",
              "      <td>30.0</td>\n",
              "      <td>0.1</td>\n",
              "      <td>40.9</td>\n",
              "      <td>40.9</td>\n",
              "    </tr>\n",
              "    <tr>\n",
              "      <th>2021-01-14 10:05:03.588056</th>\n",
              "      <td>2021-01-14</td>\n",
              "      <td>2021-01-14</td>\n",
              "      <td>26.4</td>\n",
              "      <td>0</td>\n",
              "      <td>68</td>\n",
              "      <td>82.0</td>\n",
              "      <td>341.0</td>\n",
              "      <td>0.4</td>\n",
              "      <td>78.2</td>\n",
              "      <td>78.2</td>\n",
              "      <td>0.4</td>\n",
              "      <td>43.4</td>\n",
              "      <td>43.4</td>\n",
              "    </tr>\n",
              "    <tr>\n",
              "      <th>2021-01-19 11:35:04.085157</th>\n",
              "      <td>2021-01-19</td>\n",
              "      <td>2021-01-19</td>\n",
              "      <td>31.4</td>\n",
              "      <td>8</td>\n",
              "      <td>249</td>\n",
              "      <td>61.0</td>\n",
              "      <td>573.0</td>\n",
              "      <td>1.2</td>\n",
              "      <td>91.4</td>\n",
              "      <td>91.4</td>\n",
              "      <td>1.6</td>\n",
              "      <td>62.7</td>\n",
              "      <td>62.7</td>\n",
              "    </tr>\n",
              "    <tr>\n",
              "      <th>2021-01-20 16:35:03.592622</th>\n",
              "      <td>2021-01-20</td>\n",
              "      <td>2021-01-20</td>\n",
              "      <td>24.9</td>\n",
              "      <td>0</td>\n",
              "      <td>231</td>\n",
              "      <td>85.0</td>\n",
              "      <td>30.0</td>\n",
              "      <td>1.6</td>\n",
              "      <td>93.0</td>\n",
              "      <td>93.0</td>\n",
              "      <td>2.5</td>\n",
              "      <td>66.8</td>\n",
              "      <td>66.8</td>\n",
              "    </tr>\n",
              "    <tr>\n",
              "      <th>2021-02-03 04:05:03.557765</th>\n",
              "      <td>2021-02-03</td>\n",
              "      <td>2021-02-03</td>\n",
              "      <td>20.4</td>\n",
              "      <td>0</td>\n",
              "      <td>318</td>\n",
              "      <td>89.0</td>\n",
              "      <td>0.0</td>\n",
              "      <td>0.0</td>\n",
              "      <td>0.2</td>\n",
              "      <td>112.8</td>\n",
              "      <td>0.1</td>\n",
              "      <td>8.4</td>\n",
              "      <td>114.3</td>\n",
              "    </tr>\n",
              "  </tbody>\n",
              "</table>\n",
              "</div>"
            ],
            "text/plain": [
              "                                  Data    Data_add  ...  ETMonth  ETYear\n",
              "Datetime                                            ...                 \n",
              "2021-01-12 08:35:03.563645  2021-01-12  2021-01-12  ...     40.9    40.9\n",
              "2021-01-14 10:05:03.588056  2021-01-14  2021-01-14  ...     43.4    43.4\n",
              "2021-01-19 11:35:04.085157  2021-01-19  2021-01-19  ...     62.7    62.7\n",
              "2021-01-20 16:35:03.592622  2021-01-20  2021-01-20  ...     66.8    66.8\n",
              "2021-02-03 04:05:03.557765  2021-02-03  2021-02-03  ...      8.4   114.3\n",
              "\n",
              "[5 rows x 13 columns]"
            ]
          },
          "metadata": {}
        }
      ]
    },
    {
      "cell_type": "markdown",
      "metadata": {
        "id": "fevc-trCfmrW"
      },
      "source": [
        "## Distribuição das variáveis\n",
        "\n",
        "A verificação da distribuição dos dados permite detectar anomalias e outliers que podem comprometer a análise. "
      ]
    },
    {
      "cell_type": "code",
      "metadata": {
        "id": "28xPv3Jtfq0q",
        "colab": {
          "base_uri": "https://localhost:8080/",
          "height": 593
        },
        "outputId": "e8cf2579-3de9-496a-8927-09a18e52e446"
      },
      "source": [
        "# Cria histogramas com as variáveis do modelo\n",
        "df_clean.hist(figsize=(25, 15), bins=12);"
      ],
      "execution_count": 7,
      "outputs": [
        {
          "output_type": "display_data",
          "data": {
            "image/png": "[encoded data removed]",
            "text/plain": [
              "<Figure size 1800x1080 with 12 Axes>"
            ]
          },
          "metadata": {
            "needs_background": "light"
          }
        }
      ]
    },
    {
      "cell_type": "markdown",
      "metadata": {
        "id": "sN1z_zCbhiRg"
      },
      "source": [
        "## Análise da temperatura"
      ]
    },
    {
      "cell_type": "code",
      "metadata": {
        "id": "YLzvb_cphsfm",
        "colab": {
          "base_uri": "https://localhost:8080/"
        },
        "outputId": "8b3c8a5b-fd18-4d26-fe74-0f9114ecac32"
      },
      "source": [
        "# Exibe informações estatisticas acerca da temperatura do ar\n",
        "df_clean.TempOut.describe()"
      ],
      "execution_count": 8,
      "outputs": [
        {
          "output_type": "execute_result",
          "data": {
            "text/plain": [
              "count    12092.000000\n",
              "mean        27.913645\n",
              "std          4.416461\n",
              "min         17.800000\n",
              "25%         24.200000\n",
              "50%         27.200000\n",
              "75%         31.400000\n",
              "max         40.700000\n",
              "Name: TempOut, dtype: float64"
            ]
          },
          "metadata": {},
          "execution_count": 8
        }
      ]
    },
    {
      "cell_type": "markdown",
      "metadata": {
        "id": "JBrGt6XIiCjS"
      },
      "source": [
        "Como visto acima, a média de temperatura anual da cidade de Oeiras, em 2021 foi de aproximadamente 27,9⁰C. O desvio padrão foi de aproximadamente 4,4 ⁰C. A menor temperatura registrada foi de 17,8⁰C, equanto a maior foi 40,7⁰C. \n",
        "Através do gráfico abaixo, pode-se visualizar a amplitude dos valores da temperatura, a mediana e os valores predominantes."
      ]
    },
    {
      "cell_type": "code",
      "metadata": {
        "id": "WuUmoLIgmm1m",
        "colab": {
          "base_uri": "https://localhost:8080/",
          "height": 320
        },
        "outputId": "3b2a40ba-3870-43ad-b999-c495b3f59466"
      },
      "source": [
        "#Boxplot para TempOut\n",
        "df_clean.TempOut.plot(kind='box', vert=False, figsize=(10, 5))\n",
        "plt.show()"
      ],
      "execution_count": 9,
      "outputs": [
        {
          "output_type": "display_data",
          "data": {
            "image/png": "[encoded data removed]",
            "text/plain": [
              "<Figure size 720x360 with 1 Axes>"
            ]
          },
          "metadata": {
            "needs_background": "light"
          }
        }
      ]
    },
    {
      "cell_type": "markdown",
      "metadata": {
        "id": "6VQx7vXio0Gj"
      },
      "source": [
        "### Qual dia do ano registrou a temperatura mais alta ?\n"
      ]
    },
    {
      "cell_type": "code",
      "metadata": {
        "id": "IyO1R951ozIc",
        "colab": {
          "base_uri": "https://localhost:8080/",
          "height": 111
        },
        "outputId": "f56629d2-737b-47f0-ecc6-286a6b147925"
      },
      "source": [
        "# Retorna o Datetime correspoendete ao maior valor de TempOut\n",
        "df_clean.loc[df_clean.TempOut == df_clean.TempOut.max(), ['TempOut']]\n"
      ],
      "execution_count": 10,
      "outputs": [
        {
          "output_type": "execute_result",
          "data": {
            "text/html": [
              "<div>\n",
              "<style scoped>\n",
              "    .dataframe tbody tr th:only-of-type {\n",
              "        vertical-align: middle;\n",
              "    }\n",
              "\n",
              "    .dataframe tbody tr th {\n",
              "        vertical-align: top;\n",
              "    }\n",
              "\n",
              "    .dataframe thead th {\n",
              "        text-align: right;\n",
              "    }\n",
              "</style>\n",
              "<table border=\"1\" class=\"dataframe\">\n",
              "  <thead>\n",
              "    <tr style=\"text-align: right;\">\n",
              "      <th></th>\n",
              "      <th>TempOut</th>\n",
              "    </tr>\n",
              "    <tr>\n",
              "      <th>Datetime</th>\n",
              "      <th></th>\n",
              "    </tr>\n",
              "  </thead>\n",
              "  <tbody>\n",
              "    <tr>\n",
              "      <th>2021-09-22 15:05:04.925879</th>\n",
              "      <td>40.7</td>\n",
              "    </tr>\n",
              "  </tbody>\n",
              "</table>\n",
              "</div>"
            ],
            "text/plain": [
              "                            TempOut\n",
              "Datetime                           \n",
              "2021-09-22 15:05:04.925879     40.7"
            ]
          },
          "metadata": {},
          "execution_count": 10
        }
      ]
    },
    {
      "cell_type": "markdown",
      "metadata": {
        "id": "l2aMDYgMV9Ac"
      },
      "source": [
        "A maior temperatura do ano foi registrada no dia 04 de outubro às 16:05m."
      ]
    },
    {
      "cell_type": "markdown",
      "metadata": {
        "id": "ul4sk0cFuJVu"
      },
      "source": [
        "### Qual dia do ano registrou a temperatura mais baixa ?"
      ]
    },
    {
      "cell_type": "code",
      "metadata": {
        "id": "gy9Y8DEKuYBX",
        "colab": {
          "base_uri": "https://localhost:8080/",
          "height": 111
        },
        "outputId": "3e70c8cc-a62d-4ace-e355-2e3df32e3b4c"
      },
      "source": [
        "# Retorna o Datetime correspoendete ao menor valor de TempOut\n",
        "df_clean.loc[df_clean.TempOut == df_clean.TempOut.min(), ['TempOut']]"
      ],
      "execution_count": 11,
      "outputs": [
        {
          "output_type": "execute_result",
          "data": {
            "text/html": [
              "<div>\n",
              "<style scoped>\n",
              "    .dataframe tbody tr th:only-of-type {\n",
              "        vertical-align: middle;\n",
              "    }\n",
              "\n",
              "    .dataframe tbody tr th {\n",
              "        vertical-align: top;\n",
              "    }\n",
              "\n",
              "    .dataframe thead th {\n",
              "        text-align: right;\n",
              "    }\n",
              "</style>\n",
              "<table border=\"1\" class=\"dataframe\">\n",
              "  <thead>\n",
              "    <tr style=\"text-align: right;\">\n",
              "      <th></th>\n",
              "      <th>TempOut</th>\n",
              "    </tr>\n",
              "    <tr>\n",
              "      <th>Datetime</th>\n",
              "      <th></th>\n",
              "    </tr>\n",
              "  </thead>\n",
              "  <tbody>\n",
              "    <tr>\n",
              "      <th>2021-05-27 06:05:03.345435</th>\n",
              "      <td>17.8</td>\n",
              "    </tr>\n",
              "  </tbody>\n",
              "</table>\n",
              "</div>"
            ],
            "text/plain": [
              "                            TempOut\n",
              "Datetime                           \n",
              "2021-05-27 06:05:03.345435     17.8"
            ]
          },
          "metadata": {},
          "execution_count": 11
        }
      ]
    },
    {
      "cell_type": "markdown",
      "metadata": {
        "id": "g5WUR3cTWh3f"
      },
      "source": [
        "A menor temperatura do ano foi registrada no dia 27 de maio às 05h:35m."
      ]
    },
    {
      "cell_type": "markdown",
      "metadata": {
        "id": "tnHoNmeAuzMA"
      },
      "source": [
        "### Qual foi o dia com a maior média de temperatura ?"
      ]
    },
    {
      "cell_type": "code",
      "metadata": {
        "id": "2_9gKHvru4sL",
        "colab": {
          "base_uri": "https://localhost:8080/",
          "height": 68
        },
        "outputId": "9268b6d3-abdc-4f3a-9295-e56ff4b18706"
      },
      "source": [
        "dias_media_temperatura = df_clean.groupby(['Data_add']).TempOut.mean().sort_values()\n",
        "display(dias_media_temperatura[-1:])"
      ],
      "execution_count": 12,
      "outputs": [
        {
          "output_type": "display_data",
          "data": {
            "text/plain": [
              "Data_add\n",
              "2021-09-11    32.833333\n",
              "Name: TempOut, dtype: float64"
            ]
          },
          "metadata": {}
        }
      ]
    },
    {
      "cell_type": "markdown",
      "metadata": {
        "id": "-EWJWHzJs_Ka"
      },
      "source": [
        "O dia 11/09 registrou a maior média de temperatura com aproximadamente 32,8 ⁰C."
      ]
    },
    {
      "cell_type": "markdown",
      "metadata": {
        "id": "lTLLHsdFJfdB"
      },
      "source": [
        "### Qual foi o dia com a menor média de temperatura?"
      ]
    },
    {
      "cell_type": "code",
      "metadata": {
        "id": "xZHf1Xw6Jse5",
        "colab": {
          "base_uri": "https://localhost:8080/",
          "height": 68
        },
        "outputId": "8dff4e1a-9b13-41fa-af57-3a58bcaf58da"
      },
      "source": [
        "display(dias_media_temperatura[:1])"
      ],
      "execution_count": 13,
      "outputs": [
        {
          "output_type": "display_data",
          "data": {
            "text/plain": [
              "Data_add\n",
              "2021-04-19    23.213043\n",
              "Name: TempOut, dtype: float64"
            ]
          },
          "metadata": {}
        }
      ]
    },
    {
      "cell_type": "markdown",
      "metadata": {
        "id": "ybU-36K-td3n"
      },
      "source": [
        "O dia 19/04 registrou a menor média de temperatura com 21,2 ⁰C."
      ]
    },
    {
      "cell_type": "markdown",
      "metadata": {
        "id": "OyF93gaXwPMr"
      },
      "source": [
        "### Quais as médias de temperaturas em cada mês ?"
      ]
    },
    {
      "cell_type": "code",
      "metadata": {
        "id": "yn2KuSm8wUvh",
        "colab": {
          "base_uri": "https://localhost:8080/",
          "height": 204
        },
        "outputId": "f1672a4c-953e-42ae-94a2-b63fc9bd633f"
      },
      "source": [
        "# Agrupa os dados por mês e retorna calcula a média de temperatura \n",
        "temperaturas_meses = df_clean.groupby(by=[df_clean.index.month]).TempOut.mean().sort_index()\n",
        "display(temperaturas_meses.sort_values(ascending=False))"
      ],
      "execution_count": 14,
      "outputs": [
        {
          "output_type": "display_data",
          "data": {
            "text/plain": [
              "Datetime\n",
              "9    31.725672\n",
              "8    29.544749\n",
              "7    28.726096\n",
              "6    28.585646\n",
              "5    27.334774\n",
              "4    26.640461\n",
              "3    26.366114\n",
              "1    26.357302\n",
              "2    26.147009\n",
              "Name: TempOut, dtype: float64"
            ]
          },
          "metadata": {}
        }
      ]
    },
    {
      "cell_type": "markdown",
      "metadata": {
        "id": "6pLtbdLgnWrt"
      },
      "source": [
        "Conforme a lista acima, setembro foi o mês com a maior média de temperatura com 31,7 ⁰C, seguido por agosto, com 29,5 ⁰C e julho com 28,7 ⁰C.  Já o mês de fevereiro registrou 26,1 ⁰C, a menor média de temperatura.\n",
        "\n",
        "O gráfico abaixo o possbilita a visualização das médias de temperaturas durante o ano.\n"
      ]
    },
    {
      "cell_type": "code",
      "metadata": {
        "id": "LqyVxbYfnhgC",
        "colab": {
          "base_uri": "https://localhost:8080/",
          "height": 369
        },
        "outputId": "345419de-4bc4-453b-cc47-1dea41a6a5b5"
      },
      "source": [
        "# Plota o gráfico de médias de temperaturas por mês\n",
        "fig, ax = plt.subplots(figsize=(10, 5))\n",
        "temperaturas_meses.plot(kind='line', ax=ax)\n",
        "ax.set_title('Média de temperatura por mês')\n",
        "ax.set_xlabel('Meses')\n",
        "ax.set_ylabel('Média de temperatura')\n",
        "plt.tight_layout()"
      ],
      "execution_count": 15,
      "outputs": [
        {
          "output_type": "display_data",
          "data": {
            "image/png": "[encoded data removed]",
            "text/plain": [
              "<Figure size 720x360 with 1 Axes>"
            ]
          },
          "metadata": {
            "needs_background": "light"
          }
        }
      ]
    },
    {
      "cell_type": "markdown",
      "metadata": {
        "id": "A2r9NY_pgUJn"
      },
      "source": [
        "## Análise das chuvas"
      ]
    },
    {
      "cell_type": "markdown",
      "metadata": {
        "id": "AR5CfYBrqgBl"
      },
      "source": [
        "### Qual foi o volume total de chuvas ?"
      ]
    },
    {
      "cell_type": "code",
      "metadata": {
        "id": "pD6_nHELi2EQ",
        "colab": {
          "base_uri": "https://localhost:8080/"
        },
        "outputId": "d24cac07-d024-41af-94e2-e7c1e5b476fe"
      },
      "source": [
        "# Retorna o valor máximo da variável RainYear no dia 31/12/2019.\n",
        "print(f\"O volume total das chuvas em 2021 foi: {df_clean.loc[df_clean.Data_add=='2021-09-23'].RainYear.max()}mm\")"
      ],
      "execution_count": 19,
      "outputs": [
        {
          "output_type": "stream",
          "name": "stdout",
          "text": [
            "O volume total das chuvas em 2021 foi: 330.2mm\n"
          ]
        }
      ]
    },
    {
      "cell_type": "markdown",
      "metadata": {
        "id": "mKVSu14NzGdU"
      },
      "source": [
        "### Quais os meses mais chuvosos ?"
      ]
    },
    {
      "cell_type": "code",
      "metadata": {
        "id": "R-Y6f3Rxm9NR",
        "colab": {
          "base_uri": "https://localhost:8080/",
          "height": 369
        },
        "outputId": "18650886-a6c6-4265-a3d9-543d8c199fbe"
      },
      "source": [
        "# Retorna os meses em ordem crescente e seus respectivos volumes de chuva\n",
        "meses_e_chuvas = df_clean.groupby(by=[df_clean.index.month]).RainMonth.max().sort_index() \n",
        "\n",
        "#Plota gráfico de linha para chuvas\n",
        "fig, ax = plt.subplots(figsize=(10,5))\n",
        "meses_e_chuvas.plot(kind='line', ax=ax)\n",
        "ax.set_title('Distribuição das chuvas em 2020')\n",
        "ax.set_xlabel('Meses')\n",
        "ax.set_ylabel('Volume em mm')\n",
        "plt.tight_layout()"
      ],
      "execution_count": 31,
      "outputs": [
        {
          "output_type": "display_data",
          "data": {
            "image/png": "[encoded data removed]",
            "text/plain": [
              "<Figure size 720x360 with 1 Axes>"
            ]
          },
          "metadata": {
            "needs_background": "light"
          }
        }
      ]
    },
    {
      "cell_type": "code",
      "metadata": {
        "id": "Q_YuwVpJzKXP",
        "colab": {
          "base_uri": "https://localhost:8080/",
          "height": 204
        },
        "outputId": "c8727809-57cc-4a03-f0b3-f77efee7fcf3"
      },
      "source": [
        "#Ordena os meses em ordem crescente de volume de chuva\n",
        "meses_e_chuvas = meses_e_chuvas.sort_values(ascending=False)\n",
        "display(meses_e_chuvas)\n"
      ],
      "execution_count": 32,
      "outputs": [
        {
          "output_type": "display_data",
          "data": {
            "text/plain": [
              "Datetime\n",
              "2    164.8\n",
              "1    112.6\n",
              "3     33.4\n",
              "4     17.0\n",
              "5      2.4\n",
              "9      0.0\n",
              "8      0.0\n",
              "7      0.0\n",
              "6      0.0\n",
              "Name: RainMonth, dtype: float64"
            ]
          },
          "metadata": {}
        }
      ]
    },
    {
      "cell_type": "markdown",
      "metadata": {
        "id": "BMp4aY8jkqIz"
      },
      "source": [
        "A listagem acima exibe os meses e seus volumes de chuvas ordenados em ordem decrescente. Fevereiro foi o mês com maior volume de chuvas, com 164,8mm, seguido por janeiro, com 112,6mm e março com 33,4mm. \n",
        "\n",
        "Através do gráfico abaixo, pode-se visualizar a distribuição das chuvas durante o ano."
      ]
    },
    {
      "cell_type": "markdown",
      "metadata": {
        "id": "MeP_4VyKoql1"
      },
      "source": [
        "###Em quantos dias houve chuvas?"
      ]
    },
    {
      "cell_type": "code",
      "metadata": {
        "id": "LGbAEC-G_m-S",
        "colab": {
          "base_uri": "https://localhost:8080/"
        },
        "outputId": "3295f3fd-b021-48cd-c443-bbdde57fb38d"
      },
      "source": [
        "# Retorna uma lista com todos os dias onde a variável RainDay foi maior que 0\n",
        "dias_chuvosos = (df_clean.loc[df_clean.RainDay > 0, ['Data_add']]).Data_add.unique()\n",
        "\n",
        "# Quantidade de dias chuvosos\n",
        "print(f'Em 2021 houve {len(dias_chuvosos)} dias com precipitações')"
      ],
      "execution_count": 22,
      "outputs": [
        {
          "output_type": "stream",
          "name": "stdout",
          "text": [
            "Em 2021 houve 55 dias com precipitações\n"
          ]
        }
      ]
    },
    {
      "cell_type": "markdown",
      "metadata": {
        "id": "khyd27P6y3ec"
      },
      "source": [
        "### Qual o volume de chuva por dia ?\n"
      ]
    },
    {
      "cell_type": "code",
      "metadata": {
        "id": "HBAd-wTzp7CC",
        "colab": {
          "base_uri": "https://localhost:8080/"
        },
        "outputId": "464c00de-8393-40fb-ec1d-b3fd24fb640a"
      },
      "source": [
        "# Valume de chuva em cada um dos dias\n",
        "(df_clean.loc[df_clean.RainDay > 0, ['Data_add', 'RainDay']]).groupby(['Data_add']).RainDay.max().sort_values(ascending=False)"
      ],
      "execution_count": 23,
      "outputs": [
        {
          "output_type": "execute_result",
          "data": {
            "text/plain": [
              "Data_add\n",
              "2021-02-18    45.8\n",
              "2021-02-16    28.0\n",
              "2021-01-13    27.6\n",
              "2021-01-10    20.8\n",
              "2021-01-12    20.2\n",
              "2021-02-26    19.8\n",
              "2021-02-17    16.0\n",
              "2021-02-23    11.2\n",
              "2021-01-29    10.4\n",
              "2021-03-01    10.2\n",
              "2021-01-16     8.6\n",
              "2021-02-25     6.6\n",
              "2021-04-23     6.4\n",
              "2021-02-24     6.4\n",
              "2021-02-15     6.2\n",
              "2021-01-20     5.2\n",
              "2021-02-08     5.0\n",
              "2021-04-22     5.0\n",
              "2021-01-05     4.8\n",
              "2021-01-21     4.4\n",
              "2021-03-28     4.2\n",
              "2021-03-29     4.2\n",
              "2021-02-10     4.0\n",
              "2021-01-07     4.0\n",
              "2021-01-14     3.8\n",
              "2021-02-19     3.6\n",
              "2021-04-25     3.6\n",
              "2021-02-22     3.0\n",
              "2021-03-30     2.4\n",
              "2021-02-11     2.4\n",
              "2021-02-14     2.0\n",
              "2021-02-09     1.8\n",
              "2021-05-14     1.6\n",
              "2021-01-19     1.2\n",
              "2021-04-05     1.0\n",
              "2021-03-02     1.0\n",
              "2021-02-20     1.0\n",
              "2021-01-30     0.8\n",
              "2021-05-15     0.8\n",
              "2021-02-27     0.8\n",
              "2021-02-01     0.2\n",
              "2021-02-13     0.2\n",
              "2021-01-24     0.2\n",
              "2021-01-22     0.2\n",
              "2021-03-03     0.2\n",
              "2021-03-16     0.2\n",
              "2021-03-26     0.2\n",
              "2021-03-27     0.2\n",
              "2021-03-31     0.2\n",
              "2021-04-11     0.2\n",
              "2021-04-13     0.2\n",
              "2021-01-08     0.2\n",
              "2021-04-18     0.2\n",
              "2021-04-26     0.2\n",
              "2021-01-03     0.2\n",
              "Name: RainDay, dtype: float64"
            ]
          },
          "metadata": {},
          "execution_count": 23
        }
      ]
    },
    {
      "cell_type": "markdown",
      "metadata": {
        "id": "Wjj4O1MRqoXZ"
      },
      "source": [
        "Conforme a lista acima o dia que houve o maior volume de chuva foi 18/02, com 45,8mm, seguido por 16/02, com 28mm 13/01 com 27,6mm. \n"
      ]
    },
    {
      "cell_type": "markdown",
      "metadata": {
        "id": "2b5InCxdBeU1"
      },
      "source": [
        "## Análise da umidade relativa do ar\n",
        "\n",
        "A umidade relativa do ar consiste na quantidade de vapor de água existente na atmosfera. O que caracteriza se o ar está seco ou úmido.\n",
        "\n",
        "O gráfico abaixo apresenta a média da umidade do ar por mês durante o ano de 2020.\n"
      ]
    },
    {
      "cell_type": "code",
      "metadata": {
        "id": "sWq5UVo9Comm",
        "colab": {
          "base_uri": "https://localhost:8080/",
          "height": 350
        },
        "outputId": "02cc79fe-4261-44c7-ec53-bd69df044979"
      },
      "source": [
        "# Calcula a média da umidade por mês\n",
        "media_umidade_mes = df_clean.HumOut.groupby(by=[df_clean.index.month]).mean()\n",
        "\n",
        "# PLota o gráfico de média de umidade do ar por mês\n",
        "fig, ax = plt.subplots(figsize=(10, 5))\n",
        "ax.set_title('Média de umidade do ar por mês')\n",
        "ax.set_xlabel('Mês')\n",
        "ax.set_ylabel('Umidade')\n",
        "media_umidade_mes.plot(kind='line', ax=ax);"
      ],
      "execution_count": 24,
      "outputs": [
        {
          "output_type": "display_data",
          "data": {
            "image/png": "[encoded data removed]",
            "text/plain": [
              "<Figure size 720x360 with 1 Axes>"
            ]
          },
          "metadata": {
            "needs_background": "light"
          }
        }
      ]
    },
    {
      "cell_type": "markdown",
      "metadata": {
        "id": "NQXcUZrDGNWq"
      },
      "source": [
        "### Quais as médias de umidade em cada mês ?"
      ]
    },
    {
      "cell_type": "code",
      "metadata": {
        "id": "X01qwZwyE8lv",
        "colab": {
          "base_uri": "https://localhost:8080/",
          "height": 204
        },
        "outputId": "3ac8533d-ef14-494c-9e5f-5e37c54f9931"
      },
      "source": [
        "display(media_umidade_mes.sort_values(ascending=False))"
      ],
      "execution_count": 25,
      "outputs": [
        {
          "output_type": "display_data",
          "data": {
            "text/plain": [
              "Datetime\n",
              "2    81.372183\n",
              "3    80.363731\n",
              "1    79.716273\n",
              "4    79.235500\n",
              "5    68.065160\n",
              "6    55.671703\n",
              "7    53.297147\n",
              "8    46.929097\n",
              "9    41.860982\n",
              "Name: HumOut, dtype: float64"
            ]
          },
          "metadata": {}
        }
      ]
    },
    {
      "cell_type": "markdown",
      "metadata": {
        "id": "UTyjjBymFQHd"
      },
      "source": [
        "A listagem acima exibe os meses e suas respectivas médias de umidade relativa do ar em ordem decrescente. Como visto, fevereiro foi o mês com a maior média, com 81,3%, seguido por março, com 80,3% e janeiro com 79,7%. Setembro foi o mês com o ar mais seco, registrando uma média de 41,8% de umidade.  "
      ]
    },
    {
      "cell_type": "markdown",
      "metadata": {
        "id": "D9HOxkJIG8fF"
      },
      "source": [
        "### Quais os dias mais umido e o mais seco do ano ?"
      ]
    },
    {
      "cell_type": "code",
      "metadata": {
        "id": "c-Yuo0aVFOU0",
        "colab": {
          "base_uri": "https://localhost:8080/",
          "height": 119
        },
        "outputId": "d446576d-17f0-40b6-966b-7e0935758364"
      },
      "source": [
        "# Calcula a média da umidade por dia\n",
        "medias_umidade_dias = df_clean.HumOut.groupby(by=[df_clean.Data_add]).mean()\n",
        "\n",
        "# Retorna a data com maior média de umidade\n",
        "display(medias_umidade_dias.sort_values(ascending=False)[:1])\n",
        "\n",
        "# Retorna a data com a menor média de umidade\n",
        "display(medias_umidade_dias.sort_values(ascending=False)[-1:])"
      ],
      "execution_count": 26,
      "outputs": [
        {
          "output_type": "display_data",
          "data": {
            "text/plain": [
              "Data_add\n",
              "2021-04-19    92.978261\n",
              "Name: HumOut, dtype: float64"
            ]
          },
          "metadata": {}
        },
        {
          "output_type": "display_data",
          "data": {
            "text/plain": [
              "Data_add\n",
              "2021-09-11    36.708333\n",
              "Name: HumOut, dtype: float64"
            ]
          },
          "metadata": {}
        }
      ]
    },
    {
      "cell_type": "markdown",
      "metadata": {
        "id": "FqVi48GKHMSm"
      },
      "source": [
        "Conforme visto acima, 19/04 foi o dia mais úmido do ano, com 92,9% de umidade média, enquanto 11/09 foi o dia mais seco, com 36,7% de umidade média. "
      ]
    },
    {
      "cell_type": "markdown",
      "metadata": {
        "id": "JwkNBVAieK01"
      },
      "source": [
        "## Análise dos ventos"
      ]
    },
    {
      "cell_type": "markdown",
      "metadata": {
        "id": "XLeJ4KoY84VK"
      },
      "source": [
        "### Quando e qual foi a maior velocidade do vento ? "
      ]
    },
    {
      "cell_type": "code",
      "metadata": {
        "id": "keZQsGhC9C37",
        "colab": {
          "base_uri": "https://localhost:8080/",
          "height": 111
        },
        "outputId": "a4ca6d51-dd44-4e5d-8af1-5c47da1ee50e"
      },
      "source": [
        "# Retorna o maior valor de WindSpeed\n",
        "df_clean.loc[df_clean.WindSpeed == df_clean.WindSpeed.max(), ['WindSpeed']]"
      ],
      "execution_count": 27,
      "outputs": [
        {
          "output_type": "execute_result",
          "data": {
            "text/html": [
              "<div>\n",
              "<style scoped>\n",
              "    .dataframe tbody tr th:only-of-type {\n",
              "        vertical-align: middle;\n",
              "    }\n",
              "\n",
              "    .dataframe tbody tr th {\n",
              "        vertical-align: top;\n",
              "    }\n",
              "\n",
              "    .dataframe thead th {\n",
              "        text-align: right;\n",
              "    }\n",
              "</style>\n",
              "<table border=\"1\" class=\"dataframe\">\n",
              "  <thead>\n",
              "    <tr style=\"text-align: right;\">\n",
              "      <th></th>\n",
              "      <th>WindSpeed</th>\n",
              "    </tr>\n",
              "    <tr>\n",
              "      <th>Datetime</th>\n",
              "      <th></th>\n",
              "    </tr>\n",
              "  </thead>\n",
              "  <tbody>\n",
              "    <tr>\n",
              "      <th>2021-07-11 12:05:03.438869</th>\n",
              "      <td>20</td>\n",
              "    </tr>\n",
              "  </tbody>\n",
              "</table>\n",
              "</div>"
            ],
            "text/plain": [
              "                            WindSpeed\n",
              "Datetime                             \n",
              "2021-07-11 12:05:03.438869         20"
            ]
          },
          "metadata": {},
          "execution_count": 27
        }
      ]
    },
    {
      "cell_type": "markdown",
      "metadata": {
        "id": "CQbomhlkC96f"
      },
      "source": [
        "A maior velocidade do vento foi 20km/h, registrada no dia 11/07 às 12h:05m."
      ]
    },
    {
      "cell_type": "markdown",
      "metadata": {
        "id": "j3qouxH2XUmY"
      },
      "source": [
        "### Qual direção do vento é predominante ?"
      ]
    },
    {
      "cell_type": "code",
      "metadata": {
        "id": "uBE_m4Y2yhKp",
        "colab": {
          "base_uri": "https://localhost:8080/"
        },
        "outputId": "59a21941-fa16-405b-8689-dcee99a3fbce"
      },
      "source": [
        "# Vento predominante\n",
        "df_clean.WindDir.describe()"
      ],
      "execution_count": 28,
      "outputs": [
        {
          "output_type": "execute_result",
          "data": {
            "text/plain": [
              "count    12092.000000\n",
              "mean       154.844195\n",
              "std         88.870387\n",
              "min          1.000000\n",
              "25%         91.000000\n",
              "50%        133.000000\n",
              "75%        205.000000\n",
              "max        360.000000\n",
              "Name: WindDir, dtype: float64"
            ]
          },
          "metadata": {},
          "execution_count": 28
        }
      ]
    },
    {
      "cell_type": "markdown",
      "metadata": {
        "id": "gb21LciwOH6i"
      },
      "source": [
        "Como visto acima, a direção o vento predominante é 205⁰. O gráfico abaixo mostra a frequência em relação a direção do vento.\n"
      ]
    },
    {
      "cell_type": "code",
      "metadata": {
        "id": "kteNSU95m0K8",
        "colab": {
          "base_uri": "https://localhost:8080/",
          "height": 320
        },
        "outputId": "b4e81f94-b7bf-4633-def2-5cc5f99465b2"
      },
      "source": [
        "df_clean.WindDir.hist(figsize=(10, 5), bins=50, grid=True);"
      ],
      "execution_count": 29,
      "outputs": [
        {
          "output_type": "display_data",
          "data": {
            "image/png": "[encoded data removed]",
            "text/plain": [
              "<Figure size 720x360 with 1 Axes>"
            ]
          },
          "metadata": {
            "needs_background": "light"
          }
        }
      ]
    },
    {
      "cell_type": "markdown",
      "metadata": {
        "id": "Tf5TK1jmP0K8"
      },
      "source": [
        "O gráfico abaixo exibe a distribuição da direção do vento e a velocidade."
      ]
    },
    {
      "cell_type": "code",
      "metadata": {
        "id": "CkN5BqSfzJPe",
        "colab": {
          "base_uri": "https://localhost:8080/",
          "height": 638
        },
        "outputId": "88186f10-c866-407d-8cc9-b6f1170e0abe"
      },
      "source": [
        "import numpy as np\n",
        "\n",
        "direcao = df_clean.WindDir.sort_index()\n",
        "\n",
        "velocidade = df_clean.WindSpeed.sort_index()\n",
        "\n",
        "graus = direcao * np.pi / 180\n",
        "cor = velocidade\n",
        "\n",
        "fig = plt.figure(figsize=(10, 10))\n",
        "ax = fig.add_subplot(1,1,1, projection='polar')\n",
        "ax.set_title('Direção e velocidade do vento', fontdict={'fontsize': '18', 'verticalalignment': 'center_baseline'})\n",
        "ax.set_theta_direction(-1)\n",
        "ax.set_theta_zero_location('N')\n",
        "ax.set_xticklabels(['N', 'NE', 'E', 'SE', 'S', 'SO', 'O', 'NO'], fontdict={'fontsize': '16', 'verticalalignment': 'center_baseline', 'horizontalalignment': 'center'})\n",
        "ax.set_xmargin(0.2)\n",
        "ax.set_yticklabels(['5Km/h', '10Km/h', '15Km/h', '20Km/h', '25Km/h'], fontdict={'fontsize': '16', 'verticalalignment': 'center_baseline'} )\n",
        "c = ax.scatter(graus, velocidade, c=cor, alpha=0.75)\n"
      ],
      "execution_count": 30,
      "outputs": [
        {
          "output_type": "display_data",
          "data": {
            "image/png": "[encoded data removed]",
            "text/plain": [
              "<Figure size 720x720 with 1 Axes>"
            ]
          },
          "metadata": {
            "needs_background": "light"
          }
        }
      ]
    }
  ]
}
